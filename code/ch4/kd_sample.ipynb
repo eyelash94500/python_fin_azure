{
 "cells": [
  {
   "cell_type": "code",
   "execution_count": null,
   "metadata": {},
   "outputs": [],
   "source": [
    "from talib import abstract\n",
    "import pandas as pd\n",
    "import db_connect"
   ]
  },
  {
   "cell_type": "code",
   "execution_count": null,
   "metadata": {},
   "outputs": [],
   "source": [
    "def _get_db_data():\n",
    "    # 建立與MySQL的連線\n",
    "    my_connt_obj = db_connect.mysql_connect()\n",
    "    conn = my_connt_obj.connect()\n",
    "\n",
    "    # 取得股價資訊\n",
    "    sql_script = f\"SELECT TradeDate, OpenPrice, ClosePrice, HighPrice, LowPrice FROM DailyPrice WHERE Symbol ='2330' ORDER BY TradeDate;\"\n",
    "    tmp_data = pd.read_sql(sql_script, conn, index_col=\"TradeDate\", parse_dates=\"TradeDate\")\n",
    "\n",
    "    # 關閉連線\n",
    "    conn.close()\n",
    "\n",
    "    return tmp_data\n"
   ]
  },
  {
   "cell_type": "code",
   "execution_count": null,
   "metadata": {},
   "outputs": [],
   "source": [
    "data = _get_db_data"
   ]
  },
  {
   "cell_type": "code",
   "execution_count": null,
   "metadata": {},
   "outputs": [],
   "source": [
    "# index 是 TradeDate，欄位有開高低收\n",
    "df = data.rename(columns={\"OpenPrice\":\"open\", \"HighPrice\":\"high\", \"LowPrice\":\"low\",\"ClosePrice\": \"close\"})\n",
    "\n",
    "abstract.STOCH(df).plot()"
   ]
  },
  {
   "cell_type": "code",
   "execution_count": null,
   "metadata": {},
   "outputs": [],
   "source": [
    "abstract.STOCH(df).plot()\n",
    "df[\"close\"].plot(secondary_y=True)"
   ]
  }
 ],
 "metadata": {
  "language_info": {
   "name": "python"
  },
  "orig_nbformat": 4
 },
 "nbformat": 4,
 "nbformat_minor": 2
}
